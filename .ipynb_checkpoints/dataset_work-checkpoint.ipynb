{
 "cells": [
  {
   "cell_type": "code",
   "execution_count": 21,
   "metadata": {},
   "outputs": [],
   "source": [
    "import pandas as pd\n",
    "import numpy as np\n",
    "import matplotlib.pyplot as plt\n",
    "%matplotlib inline "
   ]
  },
  {
   "cell_type": "code",
   "execution_count": 6,
   "metadata": {},
   "outputs": [],
   "source": [
    "# collisions data\n",
    "collisions = pd.read_csv('pd_collisions_datasd.csv')\n",
    "collisions_dict = pd.read_csv('pd_collisions_dictionary_datasd.csv')\n",
    "traffic_counts = pd.read_csv('traffic_counts_datasd.csv')\n",
    "traffic_dict = pd.read_csv('traffic_counts_dictionary_datasd.csv')"
   ]
  },
  {
   "cell_type": "markdown",
   "metadata": {},
   "source": [
    "Impact:  How important/interesting is the question being asked?\n",
    "\n",
    "Data Analysis and Visualization: Are the findings presented in an aesthetically pleasing and easy to understand manner? Is the data analysis rigorous and mathematically sound?\n",
    "\n",
    "Creativity & Innovation: Are there advanced, creative modelling and analysis techniques being used? Are there non-orthodox analysis tools being used?\n",
    "\n",
    "Presentation: How clearly are the findings presented? Have the ideas been articulated well?\n",
    "\n",
    "Vision Future plans for the project? Is there a clear idea of how they would like to use their findings? "
   ]
  },
  {
   "cell_type": "markdown",
   "metadata": {},
   "source": [
    "# CLEANING THE DATASETS"
   ]
  },
  {
   "cell_type": "markdown",
   "metadata": {},
   "source": [
    "## Traffic Count"
   ]
  },
  {
   "cell_type": "code",
   "execution_count": 135,
   "metadata": {},
   "outputs": [],
   "source": [
    "def clean_traffic_count(df,list_columns):\n",
    "    for i in list_columns:\n",
    "        if type(df[i][0]) == str:\n",
    "            df[i] = pd.to_numeric(df[i].str.strip()).fillna(0)\n",
    "        else: \n",
    "            df[i] = df[i].fillna(0)"
   ]
  },
  {
   "cell_type": "code",
   "execution_count": 191,
   "metadata": {},
   "outputs": [],
   "source": [
    "cleaned_traffic_count = traffic_counts.drop(['id','count_date','file_no'],axis=1)"
   ]
  },
  {
   "cell_type": "code",
   "execution_count": 184,
   "metadata": {},
   "outputs": [
    {
     "data": {
      "text/plain": [
       "street_name          object\n",
       "limits               object\n",
       "all_count            object\n",
       "northbound_count     object\n",
       "southbound_count    float64\n",
       "eastbound_count     float64\n",
       "westbound_count     float64\n",
       "total_count           int64\n",
       "file_no              object\n",
       "dtype: object"
      ]
     },
     "execution_count": 184,
     "metadata": {},
     "output_type": "execute_result"
    }
   ],
   "source": [
    "cleaned_traffic_count.dtypes\n",
    "# all_count and northbound_count are objects when they should be floats; we need to convert them"
   ]
  },
  {
   "cell_type": "code",
   "execution_count": 185,
   "metadata": {},
   "outputs": [],
   "source": [
    "traffic_count_cols = ['all_count','northbound_count','southbound_count','eastbound_count','westbound_count']\n",
    "clean_traffic_count(cleaned_traffic_count,traffic_count_cols)"
   ]
  },
  {
   "cell_type": "code",
   "execution_count": 186,
   "metadata": {},
   "outputs": [
    {
     "data": {
      "text/html": [
       "<div>\n",
       "<style scoped>\n",
       "    .dataframe tbody tr th:only-of-type {\n",
       "        vertical-align: middle;\n",
       "    }\n",
       "\n",
       "    .dataframe tbody tr th {\n",
       "        vertical-align: top;\n",
       "    }\n",
       "\n",
       "    .dataframe thead th {\n",
       "        text-align: right;\n",
       "    }\n",
       "</style>\n",
       "<table border=\"1\" class=\"dataframe\">\n",
       "  <thead>\n",
       "    <tr style=\"text-align: right;\">\n",
       "      <th></th>\n",
       "      <th>street_name</th>\n",
       "      <th>limits</th>\n",
       "      <th>all_count</th>\n",
       "      <th>northbound_count</th>\n",
       "      <th>southbound_count</th>\n",
       "      <th>eastbound_count</th>\n",
       "      <th>westbound_count</th>\n",
       "      <th>total_count</th>\n",
       "      <th>file_no</th>\n",
       "    </tr>\n",
       "  </thead>\n",
       "  <tbody>\n",
       "    <tr>\n",
       "      <th>0</th>\n",
       "      <td>01 AV</td>\n",
       "      <td>A ST - ASH ST</td>\n",
       "      <td>0.0</td>\n",
       "      <td>18010.0</td>\n",
       "      <td>0.0</td>\n",
       "      <td>0.0</td>\n",
       "      <td>0.0</td>\n",
       "      <td>18010</td>\n",
       "      <td>0182-07</td>\n",
       "    </tr>\n",
       "    <tr>\n",
       "      <th>1</th>\n",
       "      <td>01 AV</td>\n",
       "      <td>A ST - ASH ST</td>\n",
       "      <td>0.0</td>\n",
       "      <td>20060.0</td>\n",
       "      <td>0.0</td>\n",
       "      <td>0.0</td>\n",
       "      <td>0.0</td>\n",
       "      <td>20060</td>\n",
       "      <td>0152-10</td>\n",
       "    </tr>\n",
       "    <tr>\n",
       "      <th>2</th>\n",
       "      <td>01 AV</td>\n",
       "      <td>A ST - ASH ST</td>\n",
       "      <td>0.0</td>\n",
       "      <td>19597.0</td>\n",
       "      <td>0.0</td>\n",
       "      <td>0.0</td>\n",
       "      <td>0.0</td>\n",
       "      <td>19597</td>\n",
       "      <td>0182-13</td>\n",
       "    </tr>\n",
       "    <tr>\n",
       "      <th>3</th>\n",
       "      <td>01 AV</td>\n",
       "      <td>ASH ST - BEECH ST</td>\n",
       "      <td>0.0</td>\n",
       "      <td>2298.0</td>\n",
       "      <td>0.0</td>\n",
       "      <td>0.0</td>\n",
       "      <td>0.0</td>\n",
       "      <td>2298</td>\n",
       "      <td>0888-12</td>\n",
       "    </tr>\n",
       "    <tr>\n",
       "      <th>4</th>\n",
       "      <td>01 AV</td>\n",
       "      <td>B ST - A ST</td>\n",
       "      <td>0.0</td>\n",
       "      <td>15625.0</td>\n",
       "      <td>0.0</td>\n",
       "      <td>0.0</td>\n",
       "      <td>0.0</td>\n",
       "      <td>15625</td>\n",
       "      <td>0687-11</td>\n",
       "    </tr>\n",
       "  </tbody>\n",
       "</table>\n",
       "</div>"
      ],
      "text/plain": [
       "  street_name             limits  all_count  northbound_count  \\\n",
       "0       01 AV      A ST - ASH ST        0.0           18010.0   \n",
       "1       01 AV      A ST - ASH ST        0.0           20060.0   \n",
       "2       01 AV      A ST - ASH ST        0.0           19597.0   \n",
       "3       01 AV  ASH ST - BEECH ST        0.0            2298.0   \n",
       "4       01 AV        B ST - A ST        0.0           15625.0   \n",
       "\n",
       "   southbound_count  eastbound_count  westbound_count  total_count  file_no  \n",
       "0               0.0              0.0              0.0        18010  0182-07  \n",
       "1               0.0              0.0              0.0        20060  0152-10  \n",
       "2               0.0              0.0              0.0        19597  0182-13  \n",
       "3               0.0              0.0              0.0         2298  0888-12  \n",
       "4               0.0              0.0              0.0        15625  0687-11  "
      ]
     },
     "execution_count": 186,
     "metadata": {},
     "output_type": "execute_result"
    }
   ],
   "source": [
    "cleaned_traffic_count.head()"
   ]
  },
  {
   "cell_type": "code",
   "execution_count": 187,
   "metadata": {},
   "outputs": [
    {
     "data": {
      "text/plain": [
       "0.0"
      ]
     },
     "execution_count": 187,
     "metadata": {},
     "output_type": "execute_result"
    }
   ],
   "source": [
    "sum(cleaned_traffic_count['total_count']-(cleaned_traffic_count[traffic_count_cols[0]]\n",
    "+cleaned_traffic_count[traffic_count_cols[1]]+cleaned_traffic_count[traffic_count_cols[2]]\n",
    "+cleaned_traffic_count[traffic_count_cols[3]]+cleaned_traffic_count[traffic_count_cols[4]]))\n",
    "# IT WORKS! All counts add up to total counts"
   ]
  },
  {
   "cell_type": "code",
   "execution_count": 192,
   "metadata": {},
   "outputs": [
    {
     "data": {
      "text/html": [
       "<div>\n",
       "<style scoped>\n",
       "    .dataframe tbody tr th:only-of-type {\n",
       "        vertical-align: middle;\n",
       "    }\n",
       "\n",
       "    .dataframe tbody tr th {\n",
       "        vertical-align: top;\n",
       "    }\n",
       "\n",
       "    .dataframe thead th {\n",
       "        text-align: right;\n",
       "    }\n",
       "</style>\n",
       "<table border=\"1\" class=\"dataframe\">\n",
       "  <thead>\n",
       "    <tr style=\"text-align: right;\">\n",
       "      <th></th>\n",
       "      <th>Field</th>\n",
       "      <th>Description</th>\n",
       "    </tr>\n",
       "  </thead>\n",
       "  <tbody>\n",
       "    <tr>\n",
       "      <th>0</th>\n",
       "      <td>street_name</td>\n",
       "      <td>The vehicles were counted on this street</td>\n",
       "    </tr>\n",
       "    <tr>\n",
       "      <th>1</th>\n",
       "      <td>limits</td>\n",
       "      <td>The vehicles were counted between these cross ...</td>\n",
       "    </tr>\n",
       "    <tr>\n",
       "      <th>2</th>\n",
       "      <td>northbound_count</td>\n",
       "      <td>The 24 hour count of northbound vehicles</td>\n",
       "    </tr>\n",
       "    <tr>\n",
       "      <th>3</th>\n",
       "      <td>southbound_count</td>\n",
       "      <td>The 24 hour count of southbound vehicles</td>\n",
       "    </tr>\n",
       "    <tr>\n",
       "      <th>4</th>\n",
       "      <td>eastbound_count</td>\n",
       "      <td>The 24 hour count of eastbound vehicles</td>\n",
       "    </tr>\n",
       "    <tr>\n",
       "      <th>5</th>\n",
       "      <td>westbound_count</td>\n",
       "      <td>The 24 hour count of westbound vehicles</td>\n",
       "    </tr>\n",
       "    <tr>\n",
       "      <th>6</th>\n",
       "      <td>total_count</td>\n",
       "      <td>The 24 hour total of all directions of vehicle...</td>\n",
       "    </tr>\n",
       "    <tr>\n",
       "      <th>7</th>\n",
       "      <td>count_date</td>\n",
       "      <td>The vehicles were counted on this date</td>\n",
       "    </tr>\n",
       "  </tbody>\n",
       "</table>\n",
       "</div>"
      ],
      "text/plain": [
       "              Field                                        Description\n",
       "0       street_name           The vehicles were counted on this street\n",
       "1            limits  The vehicles were counted between these cross ...\n",
       "2  northbound_count           The 24 hour count of northbound vehicles\n",
       "3  southbound_count           The 24 hour count of southbound vehicles\n",
       "4   eastbound_count            The 24 hour count of eastbound vehicles\n",
       "5   westbound_count            The 24 hour count of westbound vehicles\n",
       "6       total_count  The 24 hour total of all directions of vehicle...\n",
       "7        count_date             The vehicles were counted on this date"
      ]
     },
     "execution_count": 192,
     "metadata": {},
     "output_type": "execute_result"
    }
   ],
   "source": [
    "traffic_dict\n",
    "# already pretty clean"
   ]
  },
  {
   "cell_type": "markdown",
   "metadata": {},
   "source": [
    "## Collisions"
   ]
  },
  {
   "cell_type": "code",
   "execution_count": 209,
   "metadata": {},
   "outputs": [
    {
     "data": {
      "text/html": [
       "<div>\n",
       "<style scoped>\n",
       "    .dataframe tbody tr th:only-of-type {\n",
       "        vertical-align: middle;\n",
       "    }\n",
       "\n",
       "    .dataframe tbody tr th {\n",
       "        vertical-align: top;\n",
       "    }\n",
       "\n",
       "    .dataframe thead th {\n",
       "        text-align: right;\n",
       "    }\n",
       "</style>\n",
       "<table border=\"1\" class=\"dataframe\">\n",
       "  <thead>\n",
       "    <tr style=\"text-align: right;\">\n",
       "      <th></th>\n",
       "      <th>date_time</th>\n",
       "      <th>police_beat</th>\n",
       "      <th>street_no</th>\n",
       "      <th>street_dir</th>\n",
       "      <th>street_name</th>\n",
       "      <th>street_type</th>\n",
       "      <th>cross_st_dir</th>\n",
       "      <th>cross_st_name</th>\n",
       "      <th>cross_st_type</th>\n",
       "      <th>violation_section</th>\n",
       "      <th>violation_type</th>\n",
       "      <th>charge_desc</th>\n",
       "      <th>injured</th>\n",
       "      <th>killed</th>\n",
       "      <th>hit_run_lvl</th>\n",
       "    </tr>\n",
       "  </thead>\n",
       "  <tbody>\n",
       "    <tr>\n",
       "      <th>0</th>\n",
       "      <td>2017-01-01 00:01:00</td>\n",
       "      <td>124</td>\n",
       "      <td>8300</td>\n",
       "      <td></td>\n",
       "      <td>CAM DEL ORO</td>\n",
       "      <td></td>\n",
       "      <td></td>\n",
       "      <td></td>\n",
       "      <td></td>\n",
       "      <td>MISC-HAZ</td>\n",
       "      <td>VC</td>\n",
       "      <td>MISCELLANEOUS HAZARDOUS VIOLATIONS OF THE VEHI...</td>\n",
       "      <td>0</td>\n",
       "      <td>0</td>\n",
       "      <td>MISDEMEANOR</td>\n",
       "    </tr>\n",
       "    <tr>\n",
       "      <th>1</th>\n",
       "      <td>2017-01-01 00:01:00</td>\n",
       "      <td>325</td>\n",
       "      <td>8100</td>\n",
       "      <td></td>\n",
       "      <td>ROYAL GORGE</td>\n",
       "      <td>DRIVE</td>\n",
       "      <td></td>\n",
       "      <td></td>\n",
       "      <td></td>\n",
       "      <td>22107</td>\n",
       "      <td>VC</td>\n",
       "      <td>TURNING MOVEMENTS AND REQUIRED SIGNALS</td>\n",
       "      <td>0</td>\n",
       "      <td>0</td>\n",
       "      <td>MISDEMEANOR</td>\n",
       "    </tr>\n",
       "    <tr>\n",
       "      <th>2</th>\n",
       "      <td>2017-01-01 00:01:00</td>\n",
       "      <td>322</td>\n",
       "      <td>6400</td>\n",
       "      <td></td>\n",
       "      <td>CRAWFORD</td>\n",
       "      <td>STREET</td>\n",
       "      <td></td>\n",
       "      <td></td>\n",
       "      <td></td>\n",
       "      <td>MISC-HAZ</td>\n",
       "      <td>VC</td>\n",
       "      <td>MISCELLANEOUS HAZARDOUS VIOLATIONS OF THE VEHI...</td>\n",
       "      <td>0</td>\n",
       "      <td>0</td>\n",
       "      <td>MISDEMEANOR</td>\n",
       "    </tr>\n",
       "    <tr>\n",
       "      <th>3</th>\n",
       "      <td>2017-01-01 00:01:00</td>\n",
       "      <td>935</td>\n",
       "      <td>5500</td>\n",
       "      <td></td>\n",
       "      <td>VALERIO</td>\n",
       "      <td>TRAIL</td>\n",
       "      <td></td>\n",
       "      <td></td>\n",
       "      <td></td>\n",
       "      <td>MISC-HAZ</td>\n",
       "      <td>VC</td>\n",
       "      <td>MISCELLANEOUS HAZARDOUS VIOLATIONS OF THE VEHI...</td>\n",
       "      <td>0</td>\n",
       "      <td>0</td>\n",
       "      <td>MISDEMEANOR</td>\n",
       "    </tr>\n",
       "    <tr>\n",
       "      <th>4</th>\n",
       "      <td>2017-01-01 01:00:00</td>\n",
       "      <td>521</td>\n",
       "      <td>1000</td>\n",
       "      <td></td>\n",
       "      <td>11TH</td>\n",
       "      <td>AVENUE</td>\n",
       "      <td></td>\n",
       "      <td></td>\n",
       "      <td></td>\n",
       "      <td>22107</td>\n",
       "      <td>VC</td>\n",
       "      <td>TURNING MOVEMENTS AND REQUIRED SIGNALS</td>\n",
       "      <td>0</td>\n",
       "      <td>0</td>\n",
       "      <td>MISDEMEANOR</td>\n",
       "    </tr>\n",
       "  </tbody>\n",
       "</table>\n",
       "</div>"
      ],
      "text/plain": [
       "            date_time  police_beat  street_no street_dir  street_name  \\\n",
       "0 2017-01-01 00:01:00          124       8300             CAM DEL ORO   \n",
       "1 2017-01-01 00:01:00          325       8100             ROYAL GORGE   \n",
       "2 2017-01-01 00:01:00          322       6400                CRAWFORD   \n",
       "3 2017-01-01 00:01:00          935       5500                 VALERIO   \n",
       "4 2017-01-01 01:00:00          521       1000                    11TH   \n",
       "\n",
       "  street_type cross_st_dir cross_st_name cross_st_type violation_section  \\\n",
       "0                                                               MISC-HAZ   \n",
       "1       DRIVE                                                      22107   \n",
       "2      STREET                                                   MISC-HAZ   \n",
       "3       TRAIL                                                   MISC-HAZ   \n",
       "4      AVENUE                                                      22107   \n",
       "\n",
       "  violation_type                                        charge_desc  injured  \\\n",
       "0             VC  MISCELLANEOUS HAZARDOUS VIOLATIONS OF THE VEHI...        0   \n",
       "1             VC             TURNING MOVEMENTS AND REQUIRED SIGNALS        0   \n",
       "2             VC  MISCELLANEOUS HAZARDOUS VIOLATIONS OF THE VEHI...        0   \n",
       "3             VC  MISCELLANEOUS HAZARDOUS VIOLATIONS OF THE VEHI...        0   \n",
       "4             VC             TURNING MOVEMENTS AND REQUIRED SIGNALS        0   \n",
       "\n",
       "   killed  hit_run_lvl  \n",
       "0       0  MISDEMEANOR  \n",
       "1       0  MISDEMEANOR  \n",
       "2       0  MISDEMEANOR  \n",
       "3       0  MISDEMEANOR  \n",
       "4       0  MISDEMEANOR  "
      ]
     },
     "execution_count": 209,
     "metadata": {},
     "output_type": "execute_result"
    }
   ],
   "source": [
    "cleaned_collisions = collisions.drop('report_id',axis=1)\n",
    "cleaned_collisions['hit_run_lvl'].fillna('NEITHER',inplace = True)\n",
    "cleaned_collisions['date_time'] = cleaned_collisions['date_time'].apply(pd.to_datetime)\n",
    "cleaned_collisions.head()"
   ]
  },
  {
   "cell_type": "code",
   "execution_count": 210,
   "metadata": {},
   "outputs": [
    {
     "data": {
      "text/plain": [
       "NEITHER        12187\n",
       "MISDEMEANOR    10407\n",
       "FELONY           114\n",
       "Name: hit_run_lvl, dtype: int64"
      ]
     },
     "execution_count": 210,
     "metadata": {},
     "output_type": "execute_result"
    }
   ],
   "source": [
    "cleaned_collisions['hit_run_lvl'].value_counts()"
   ]
  },
  {
   "cell_type": "code",
   "execution_count": null,
   "metadata": {},
   "outputs": [],
   "source": []
  }
 ],
 "metadata": {
  "kernelspec": {
   "display_name": "Python 3",
   "language": "python",
   "name": "python3"
  },
  "language_info": {
   "codemirror_mode": {
    "name": "ipython",
    "version": 3
   },
   "file_extension": ".py",
   "mimetype": "text/x-python",
   "name": "python",
   "nbconvert_exporter": "python",
   "pygments_lexer": "ipython3",
   "version": "3.6.8"
  }
 },
 "nbformat": 4,
 "nbformat_minor": 2
}
