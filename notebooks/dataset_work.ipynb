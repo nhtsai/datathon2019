{
 "cells": [
  {
   "cell_type": "code",
   "execution_count": 1,
   "metadata": {},
   "outputs": [],
   "source": [
    "import pandas as pd\n",
    "import numpy as np\n",
    "import matplotlib.pyplot as plt\n",
    "import geopandas as gpd\n",
    "%matplotlib inline \n",
    "pd.options.mode.chained_assignment = None"
   ]
  },
  {
   "cell_type": "code",
   "execution_count": 2,
   "metadata": {},
   "outputs": [],
   "source": [
    "# collisions data\n",
    "collisions = pd.read_csv('pd_collisions_datasd.csv')\n",
    "collisions_dict = pd.read_csv('pd_collisions_dictionary_datasd.csv')\n",
    "traffic_counts = pd.read_csv('traffic_counts_datasd.csv')\n",
    "traffic_dict = pd.read_csv('traffic_counts_dictionary_datasd.csv')"
   ]
  },
  {
   "cell_type": "markdown",
   "metadata": {},
   "source": [
    "# WORKSTATION"
   ]
  },
  {
   "cell_type": "code",
   "execution_count": 3,
   "metadata": {},
   "outputs": [
    {
     "ename": "NameError",
     "evalue": "name 'beats' is not defined",
     "output_type": "error",
     "traceback": [
      "\u001b[0;31m---------------------------------------------------------------------------\u001b[0m",
      "\u001b[0;31mNameError\u001b[0m                                 Traceback (most recent call last)",
      "\u001b[0;32m<ipython-input-3-53e54450bfc7>\u001b[0m in \u001b[0;36m<module>\u001b[0;34m()\u001b[0m\n\u001b[0;32m----> 1\u001b[0;31m \u001b[0mbeats\u001b[0m\u001b[0;34m.\u001b[0m\u001b[0mplot\u001b[0m\u001b[0;34m(\u001b[0m\u001b[0;34m)\u001b[0m\u001b[0;34m\u001b[0m\u001b[0;34m\u001b[0m\u001b[0m\n\u001b[0m",
      "\u001b[0;31mNameError\u001b[0m: name 'beats' is not defined"
     ]
    }
   ],
   "source": [
    "beats.plot()"
   ]
  },
  {
   "cell_type": "code",
   "execution_count": null,
   "metadata": {},
   "outputs": [],
   "source": [
    "beats.head()"
   ]
  },
  {
   "cell_type": "code",
   "execution_count": null,
   "metadata": {},
   "outputs": [],
   "source": [
    "cleaned_beats = beats[['beat','name','geometry']]"
   ]
  },
  {
   "cell_type": "code",
   "execution_count": null,
   "metadata": {},
   "outputs": [],
   "source": [
    "merged_beat = pd.merge(cleaned_beats,beat_ik,left_on='beat'\n",
    "                       ,right_on='police_beat')[['geometry','police_beat','injured','killed','name']]"
   ]
  },
  {
   "cell_type": "code",
   "execution_count": null,
   "metadata": {},
   "outputs": [],
   "source": [
    "merged_beat.sort_values('injured',ascending=False).head()"
   ]
  },
  {
   "cell_type": "code",
   "execution_count": null,
   "metadata": {},
   "outputs": [],
   "source": [
    "fig, ax = plt.subplots(figsize=(20, 20))\n",
    "merged_beat.plot(column='injured',ax=ax, legend = True)\n",
    "#fig.suptitle('Injuries in each Beat', fontsize=20);\n",
    "plt.savefig('choropleth_injured.png')"
   ]
  },
  {
   "cell_type": "code",
   "execution_count": null,
   "metadata": {},
   "outputs": [],
   "source": [
    "merged_beat.sort_values('killed',ascending=False).head()"
   ]
  },
  {
   "cell_type": "code",
   "execution_count": null,
   "metadata": {},
   "outputs": [],
   "source": [
    "fig, ax = plt.subplots(figsize=(20, 20))\n",
    "merged_beat.plot(column='killed',ax=ax, legend = True)\n",
    "plt.savefig('choropleth_killed.png')"
   ]
  },
  {
   "cell_type": "markdown",
   "metadata": {},
   "source": [
    "Impact:  How important/interesting is the question being asked?\n",
    "\n",
    "Data Analysis and Visualization: Are the findings presented in an aesthetically pleasing and easy to understand manner? Is the data analysis rigorous and mathematically sound?\n",
    "\n",
    "Creativity & Innovation: Are there advanced, creative modelling and analysis techniques being used? Are there non-orthodox analysis tools being used?\n",
    "\n",
    "Presentation: How clearly are the findings presented? Have the ideas been articulated well?\n",
    "\n",
    "Vision Future plans for the project? Is there a clear idea of how they would like to use their findings? "
   ]
  },
  {
   "cell_type": "markdown",
   "metadata": {},
   "source": [
    "# CLEANING THE DATASETS"
   ]
  },
  {
   "cell_type": "markdown",
   "metadata": {},
   "source": [
    "## Traffic Count"
   ]
  },
  {
   "cell_type": "code",
   "execution_count": null,
   "metadata": {},
   "outputs": [],
   "source": [
    "def clean_traffic_count(df,list_columns):\n",
    "    for i in list_columns:\n",
    "        if type(df[i][0]) == str:\n",
    "            df[i] = pd.to_numeric(df[i].str.strip()).fillna(0)\n",
    "        else: \n",
    "            df[i] = df[i].fillna(0)"
   ]
  },
  {
   "cell_type": "code",
   "execution_count": null,
   "metadata": {},
   "outputs": [],
   "source": [
    "cleaned_traffic_count = traffic_counts.drop(['id','file_no'],axis=1)"
   ]
  },
  {
   "cell_type": "code",
   "execution_count": null,
   "metadata": {},
   "outputs": [],
   "source": [
    "cleaned_traffic_count.dtypes\n",
    "# all_count and northbound_count are objects when they should be floats; we need to convert them"
   ]
  },
  {
   "cell_type": "code",
   "execution_count": null,
   "metadata": {},
   "outputs": [],
   "source": [
    "traffic_count_cols = ['all_count','northbound_count','southbound_count','eastbound_count','westbound_count']\n",
    "clean_traffic_count(cleaned_traffic_count,traffic_count_cols)"
   ]
  },
  {
   "cell_type": "code",
   "execution_count": null,
   "metadata": {},
   "outputs": [],
   "source": [
    "cleaned_traffic_count['count_date']=cleaned_traffic_count['count_date'].apply(pd.to_datetime)"
   ]
  },
  {
   "cell_type": "code",
   "execution_count": null,
   "metadata": {},
   "outputs": [],
   "source": [
    "cleaned_traffic_count.head()"
   ]
  },
  {
   "cell_type": "code",
   "execution_count": null,
   "metadata": {},
   "outputs": [],
   "source": []
  },
  {
   "cell_type": "code",
   "execution_count": null,
   "metadata": {},
   "outputs": [],
   "source": []
  },
  {
   "cell_type": "code",
   "execution_count": null,
   "metadata": {},
   "outputs": [],
   "source": [
    "cleaned_traffic_count['street_name'].unique()"
   ]
  },
  {
   "cell_type": "code",
   "execution_count": null,
   "metadata": {},
   "outputs": [],
   "source": [
    "sum(cleaned_traffic_count['total_count']-(cleaned_traffic_count[traffic_count_cols[0]]\n",
    "+cleaned_traffic_count[traffic_count_cols[1]]+cleaned_traffic_count[traffic_count_cols[2]]\n",
    "+cleaned_traffic_count[traffic_count_cols[3]]+cleaned_traffic_count[traffic_count_cols[4]]))\n",
    "# IT WORKS! All counts add up to total counts"
   ]
  },
  {
   "cell_type": "code",
   "execution_count": null,
   "metadata": {},
   "outputs": [],
   "source": [
    "traffic_dict\n",
    "# already pretty clean"
   ]
  },
  {
   "cell_type": "markdown",
   "metadata": {},
   "source": [
    "## Collisions"
   ]
  },
  {
   "cell_type": "code",
   "execution_count": null,
   "metadata": {},
   "outputs": [],
   "source": [
    "cleaned_collisions = collisions.drop('report_id',axis=1)\n",
    "cleaned_collisions['hit_run_lvl'].fillna('NEITHER',inplace = True)\n",
    "cleaned_collisions['date_time'] = cleaned_collisions['date_time'].apply(pd.to_datetime)\n",
    "cleaned_collisions.head()"
   ]
  },
  {
   "cell_type": "code",
   "execution_count": null,
   "metadata": {},
   "outputs": [],
   "source": [
    "cleaned_collisions['street_type'].unique()"
   ]
  },
  {
   "cell_type": "code",
   "execution_count": null,
   "metadata": {},
   "outputs": [],
   "source": [
    "cleaned_collisions['hit_run_lvl'].value_counts()"
   ]
  },
  {
   "cell_type": "markdown",
   "metadata": {},
   "source": [
    "# ------------------------"
   ]
  },
  {
   "cell_type": "code",
   "execution_count": null,
   "metadata": {},
   "outputs": [],
   "source": [
    "beats = pd.read_csv('pd_beats_dictionary_datasd.csv')"
   ]
  },
  {
   "cell_type": "code",
   "execution_count": null,
   "metadata": {},
   "outputs": [],
   "source": [
    "for i in beats['description']:\n",
    "    print(i)"
   ]
  },
  {
   "cell_type": "code",
   "execution_count": null,
   "metadata": {},
   "outputs": [],
   "source": [
    "beats = gpd.read_file('pd_beats_datasd.shp')"
   ]
  },
  {
   "cell_type": "code",
   "execution_count": null,
   "metadata": {},
   "outputs": [],
   "source": [
    "beats.shape"
   ]
  },
  {
   "cell_type": "code",
   "execution_count": null,
   "metadata": {},
   "outputs": [],
   "source": [
    "beats.plot()"
   ]
  },
  {
   "cell_type": "code",
   "execution_count": null,
   "metadata": {},
   "outputs": [],
   "source": [
    "potentially_interesting = pd.merge(beats,cleaned_collisions,left_on='beat',right_on='police_beat')"
   ]
  },
  {
   "cell_type": "markdown",
   "metadata": {},
   "source": [
    "# ANALYSIS"
   ]
  },
  {
   "cell_type": "markdown",
   "metadata": {},
   "source": [
    "QUESTIONS: \n",
    "For traffic count: \n",
    "What days are worst for traffic?\n",
    "Which direction is the worst?\n"
   ]
  },
  {
   "cell_type": "markdown",
   "metadata": {},
   "source": [
    "## Traffic over time "
   ]
  },
  {
   "cell_type": "code",
   "execution_count": null,
   "metadata": {},
   "outputs": [],
   "source": [
    "roads = gpd.read_file('roads_datasd.shp')\n",
    "slim_roads = roads[['geometry','rd30full']]\n",
    "slim_roads['rd30full'] = slim_roads['rd30full'].str.lower()\n",
    "slim_roads.head()"
   ]
  },
  {
   "cell_type": "code",
   "execution_count": null,
   "metadata": {},
   "outputs": [],
   "source": []
  },
  {
   "cell_type": "code",
   "execution_count": null,
   "metadata": {},
   "outputs": [],
   "source": [
    "'''\n",
    "for i in range(0,500,2):\n",
    "    tester = interesting[interesting['count_date']==array_item[i]]\n",
    "    array = slim_roads['rd30full'].str.contains('!') \n",
    "    for j in tester['street_name']:\n",
    "        array += slim_roads['rd30full'].str.contains(j)\n",
    "    test = slim_roads[array]\n",
    "    fig, ax = plt.subplots(figsize=(10, 10))\n",
    "    fig.suptitle(str(pd.to_datetime(array_item[i]).date()), fontsize=20)\n",
    "    slim_roads.plot(color='gray',ax=ax)\n",
    "    beats.plot(ax=ax)\n",
    "    test.plot(color='red',ax=ax)\n",
    "    plt.tight_layout()\n",
    "    plt.savefig('foo'+str(i)+'.png')\n",
    "'''"
   ]
  },
  {
   "cell_type": "code",
   "execution_count": null,
   "metadata": {},
   "outputs": [],
   "source": []
  }
 ],
 "metadata": {
  "kernelspec": {
   "display_name": "Python 3",
   "language": "python",
   "name": "python3"
  },
  "language_info": {
   "codemirror_mode": {
    "name": "ipython",
    "version": 3
   },
   "file_extension": ".py",
   "mimetype": "text/x-python",
   "name": "python",
   "nbconvert_exporter": "python",
   "pygments_lexer": "ipython3",
   "version": "3.6.8"
  }
 },
 "nbformat": 4,
 "nbformat_minor": 2
}
