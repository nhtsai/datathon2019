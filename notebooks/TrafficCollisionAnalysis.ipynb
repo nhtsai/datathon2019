{
 "cells": [
  {
   "cell_type": "markdown",
   "metadata": {},
   "source": [
    "# San Diego Traffic Collision Analysis\n",
    "\n",
    "UCSD Datathon 2019  \n",
    "By Nathan Tsai, Bernard Wong, and Sally Poon\n",
    "\n",
    "\n",
    "**Contents**\n",
    "* Introduction\n",
    "* Imports\n",
    "* Exploratory Data Analysis\n",
    "* Data Cleaning\n",
    "* Analysis\n",
    "* Pacific Beach Case Study\n",
    "* Conclusion and Insights"
   ]
  },
  {
   "cell_type": "markdown",
   "metadata": {},
   "source": [
    "**Guidelines**\n",
    "\n",
    "Impact:  How important/interesting is the question being asked?\n",
    "\n",
    "Data Analysis and Visualization: Are the findings presented in an aesthetically pleasing and easy to understand manner? Is the data analysis rigorous and mathematically sound?\n",
    "\n",
    "Creativity & Innovation: Are there advanced, creative modelling and analysis techniques being used? Are there non-orthodox analysis tools being used?\n",
    "\n",
    "Presentation: How clearly are the findings presented? Have the ideas been articulated well?\n",
    "\n",
    "Vision Future plans for the project? Is there a clear idea of how they would like to use their findings? "
   ]
  },
  {
   "cell_type": "markdown",
   "metadata": {},
   "source": [
    "## Introduction"
   ]
  },
  {
   "cell_type": "markdown",
   "metadata": {},
   "source": [
    "Traffic is an incredibly large issue in California. According to a 2015 U.S. census, four of the top ten worst locations for commute (based on commute time) are located in California, which can lead to a plethora of other problems. As technology becomes more and more advanced and we have access to more and more data, opportunities arise for data-related problem solving, and the issue of traffic and collisions is no different.\n",
    "\n",
    "With access to data regarding both traffic and collisions, we have a lot of power to help answer some questions that we may have. However, we needed to have a general understanding of what all the data is and what it actually represents. Our first steps involved the translation of the data into visuals so that we can identify general trends and ideas that help us both answer and formulate more questions."
   ]
  },
  {
   "cell_type": "markdown",
   "metadata": {},
   "source": [
    "## Imports"
   ]
  },
  {
   "cell_type": "code",
   "execution_count": 43,
   "metadata": {},
   "outputs": [],
   "source": [
    "import os\n",
    "import numpy as np\n",
    "import pandas as pd\n",
    "import matplotlib.pyplot as plt\n",
    "%matplotlib inline"
   ]
  },
  {
   "cell_type": "code",
   "execution_count": 44,
   "metadata": {},
   "outputs": [],
   "source": [
    "# Import datasets\n",
    "data_dir = '../trafficdata'\n",
    "collisions = pd.read_csv(os.path.join(data_dir, 'pd_collisions_datasd.csv'))\n",
    "collisions_dict = pd.read_csv(os.path.join(data_dir, 'pd_collisions_dictionary_datasd.csv'))\n",
    "traffic_counts = pd.read_csv(os.path.join(data_dir, 'traffic_counts_datasd.csv'))\n",
    "traffic_dict = pd.read_csv(os.path.join(data_dir, 'traffic_counts_dictionary_datasd.csv'))"
   ]
  },
  {
   "cell_type": "markdown",
   "metadata": {},
   "source": [
    "## Exploratory Data Analysis"
   ]
  },
  {
   "cell_type": "markdown",
   "metadata": {},
   "source": [
    "### Collisions EDA"
   ]
  },
  {
   "cell_type": "code",
   "execution_count": 45,
   "metadata": {},
   "outputs": [
    {
     "data": {
      "text/html": [
       "<div>\n",
       "<style scoped>\n",
       "    .dataframe tbody tr th:only-of-type {\n",
       "        vertical-align: middle;\n",
       "    }\n",
       "\n",
       "    .dataframe tbody tr th {\n",
       "        vertical-align: top;\n",
       "    }\n",
       "\n",
       "    .dataframe thead th {\n",
       "        text-align: right;\n",
       "    }\n",
       "</style>\n",
       "<table border=\"1\" class=\"dataframe\">\n",
       "  <thead>\n",
       "    <tr style=\"text-align: right;\">\n",
       "      <th></th>\n",
       "      <th>Field</th>\n",
       "      <th>Description</th>\n",
       "      <th>Values</th>\n",
       "    </tr>\n",
       "  </thead>\n",
       "  <tbody>\n",
       "    <tr>\n",
       "      <th>0</th>\n",
       "      <td>activityNumber</td>\n",
       "      <td>Collision report number</td>\n",
       "      <td>NaN</td>\n",
       "    </tr>\n",
       "    <tr>\n",
       "      <th>1</th>\n",
       "      <td>activityDate</td>\n",
       "      <td>Date/time of collision</td>\n",
       "      <td>Date / time in 24 hour format</td>\n",
       "    </tr>\n",
       "    <tr>\n",
       "      <th>2</th>\n",
       "      <td>beat</td>\n",
       "      <td>San Diego Police beat</td>\n",
       "      <td>see code list</td>\n",
       "    </tr>\n",
       "    <tr>\n",
       "      <th>3</th>\n",
       "      <td>StreetNo</td>\n",
       "      <td>Street number of collision location, abstracte...</td>\n",
       "      <td>NaN</td>\n",
       "    </tr>\n",
       "    <tr>\n",
       "      <th>4</th>\n",
       "      <td>StreetDir</td>\n",
       "      <td>Direction of street in location</td>\n",
       "      <td>NaN</td>\n",
       "    </tr>\n",
       "    <tr>\n",
       "      <th>5</th>\n",
       "      <td>StreetName</td>\n",
       "      <td>Name of street</td>\n",
       "      <td>NaN</td>\n",
       "    </tr>\n",
       "    <tr>\n",
       "      <th>6</th>\n",
       "      <td>StreetType</td>\n",
       "      <td>Street type</td>\n",
       "      <td>NaN</td>\n",
       "    </tr>\n",
       "    <tr>\n",
       "      <th>7</th>\n",
       "      <td>CrossStDir</td>\n",
       "      <td>Direction of cross street, if collision at int...</td>\n",
       "      <td>NaN</td>\n",
       "    </tr>\n",
       "    <tr>\n",
       "      <th>8</th>\n",
       "      <td>CrossStName</td>\n",
       "      <td>Street name, if collision at intersection</td>\n",
       "      <td>NaN</td>\n",
       "    </tr>\n",
       "    <tr>\n",
       "      <th>9</th>\n",
       "      <td>CrossStType</td>\n",
       "      <td>Street type, if collision at intersection</td>\n",
       "      <td>NaN</td>\n",
       "    </tr>\n",
       "    <tr>\n",
       "      <th>10</th>\n",
       "      <td>violationSection</td>\n",
       "      <td>Violation section for primary collision factor</td>\n",
       "      <td>NaN</td>\n",
       "    </tr>\n",
       "    <tr>\n",
       "      <th>11</th>\n",
       "      <td>violationType</td>\n",
       "      <td>Violation type for primary collision factor</td>\n",
       "      <td>NaN</td>\n",
       "    </tr>\n",
       "    <tr>\n",
       "      <th>12</th>\n",
       "      <td>chargeDescription</td>\n",
       "      <td>Violation section description for primary coll...</td>\n",
       "      <td>NaN</td>\n",
       "    </tr>\n",
       "    <tr>\n",
       "      <th>13</th>\n",
       "      <td>numberInjured</td>\n",
       "      <td>Number of people injured in collision</td>\n",
       "      <td>NaN</td>\n",
       "    </tr>\n",
       "    <tr>\n",
       "      <th>14</th>\n",
       "      <td>numberKilled</td>\n",
       "      <td>Number of people killed in collision</td>\n",
       "      <td>NaN</td>\n",
       "    </tr>\n",
       "    <tr>\n",
       "      <th>15</th>\n",
       "      <td>hitRunLevel</td>\n",
       "      <td>Level of violation, if collision was a hit &amp; run</td>\n",
       "      <td>Felony or Misdemeanor (Null if not a hit &amp; run)</td>\n",
       "    </tr>\n",
       "  </tbody>\n",
       "</table>\n",
       "</div>"
      ],
      "text/plain": [
       "                Field                                        Description  \\\n",
       "0      activityNumber                            Collision report number   \n",
       "1        activityDate                             Date/time of collision   \n",
       "2                beat                              San Diego Police beat   \n",
       "3            StreetNo  Street number of collision location, abstracte...   \n",
       "4           StreetDir                    Direction of street in location   \n",
       "5          StreetName                                     Name of street   \n",
       "6          StreetType                                        Street type   \n",
       "7          CrossStDir  Direction of cross street, if collision at int...   \n",
       "8         CrossStName          Street name, if collision at intersection   \n",
       "9         CrossStType          Street type, if collision at intersection   \n",
       "10   violationSection     Violation section for primary collision factor   \n",
       "11      violationType        Violation type for primary collision factor   \n",
       "12  chargeDescription  Violation section description for primary coll...   \n",
       "13      numberInjured              Number of people injured in collision   \n",
       "14       numberKilled               Number of people killed in collision   \n",
       "15        hitRunLevel   Level of violation, if collision was a hit & run   \n",
       "\n",
       "                                             Values  \n",
       "0                                               NaN  \n",
       "1                     Date / time in 24 hour format  \n",
       "2                                     see code list  \n",
       "3                                               NaN  \n",
       "4                                               NaN  \n",
       "5                                               NaN  \n",
       "6                                               NaN  \n",
       "7                                               NaN  \n",
       "8                                               NaN  \n",
       "9                                               NaN  \n",
       "10                                              NaN  \n",
       "11                                              NaN  \n",
       "12                                              NaN  \n",
       "13                                              NaN  \n",
       "14                                              NaN  \n",
       "15  Felony or Misdemeanor (Null if not a hit & run)  "
      ]
     },
     "execution_count": 45,
     "metadata": {},
     "output_type": "execute_result"
    }
   ],
   "source": [
    "collisions_dict.drop(['Unnamed: 3'], axis=1).drop([16, 17], axis=0)"
   ]
  },
  {
   "cell_type": "code",
   "execution_count": 46,
   "metadata": {
    "scrolled": false
   },
   "outputs": [
    {
     "name": "stdout",
     "output_type": "stream",
     "text": [
      "<class 'pandas.core.frame.DataFrame'>\n",
      "RangeIndex: 22708 entries, 0 to 22707\n",
      "Data columns (total 16 columns):\n",
      " #   Column             Non-Null Count  Dtype \n",
      "---  ------             --------------  ----- \n",
      " 0   report_id          22708 non-null  object\n",
      " 1   date_time          22708 non-null  object\n",
      " 2   police_beat        22708 non-null  int64 \n",
      " 3   street_no          22708 non-null  int64 \n",
      " 4   street_dir         22708 non-null  object\n",
      " 5   street_name        22708 non-null  object\n",
      " 6   street_type        22706 non-null  object\n",
      " 7   cross_st_dir       22708 non-null  object\n",
      " 8   cross_st_name      22708 non-null  object\n",
      " 9   cross_st_type      22701 non-null  object\n",
      " 10  violation_section  22708 non-null  object\n",
      " 11  violation_type     22708 non-null  object\n",
      " 12  charge_desc        22708 non-null  object\n",
      " 13  injured            22708 non-null  int64 \n",
      " 14  killed             22708 non-null  int64 \n",
      " 15  hit_run_lvl        10521 non-null  object\n",
      "dtypes: int64(4), object(12)\n",
      "memory usage: 2.8+ MB\n",
      "None\n"
     ]
    },
    {
     "data": {
      "text/html": [
       "<div>\n",
       "<style scoped>\n",
       "    .dataframe tbody tr th:only-of-type {\n",
       "        vertical-align: middle;\n",
       "    }\n",
       "\n",
       "    .dataframe tbody tr th {\n",
       "        vertical-align: top;\n",
       "    }\n",
       "\n",
       "    .dataframe thead th {\n",
       "        text-align: right;\n",
       "    }\n",
       "</style>\n",
       "<table border=\"1\" class=\"dataframe\">\n",
       "  <thead>\n",
       "    <tr style=\"text-align: right;\">\n",
       "      <th></th>\n",
       "      <th>report_id</th>\n",
       "      <th>date_time</th>\n",
       "      <th>police_beat</th>\n",
       "      <th>street_no</th>\n",
       "      <th>street_dir</th>\n",
       "      <th>street_name</th>\n",
       "      <th>street_type</th>\n",
       "      <th>cross_st_dir</th>\n",
       "      <th>cross_st_name</th>\n",
       "      <th>cross_st_type</th>\n",
       "      <th>violation_section</th>\n",
       "      <th>violation_type</th>\n",
       "      <th>charge_desc</th>\n",
       "      <th>injured</th>\n",
       "      <th>killed</th>\n",
       "      <th>hit_run_lvl</th>\n",
       "    </tr>\n",
       "  </thead>\n",
       "  <tbody>\n",
       "    <tr>\n",
       "      <th>22703</th>\n",
       "      <td>19200884</td>\n",
       "      <td>2019-04-14 10:51:00</td>\n",
       "      <td>235</td>\n",
       "      <td>15500</td>\n",
       "      <td></td>\n",
       "      <td>SAN PASQUAL VALLEY</td>\n",
       "      <td>ROAD</td>\n",
       "      <td></td>\n",
       "      <td></td>\n",
       "      <td></td>\n",
       "      <td>22350</td>\n",
       "      <td>VC</td>\n",
       "      <td>UNSAFE SPEED (BASIC SPEED LAW) (I)</td>\n",
       "      <td>1</td>\n",
       "      <td>0</td>\n",
       "      <td>NaN</td>\n",
       "    </tr>\n",
       "    <tr>\n",
       "      <th>22704</th>\n",
       "      <td>19200885</td>\n",
       "      <td>2019-04-14 10:53:18</td>\n",
       "      <td>315</td>\n",
       "      <td>9100</td>\n",
       "      <td></td>\n",
       "      <td>FRIARS</td>\n",
       "      <td>ROAD</td>\n",
       "      <td></td>\n",
       "      <td></td>\n",
       "      <td></td>\n",
       "      <td>22350</td>\n",
       "      <td>VC</td>\n",
       "      <td>UNSAFE SPEED (BASIC SPEED LAW) (I)</td>\n",
       "      <td>0</td>\n",
       "      <td>0</td>\n",
       "      <td>MISDEMEANOR</td>\n",
       "    </tr>\n",
       "    <tr>\n",
       "      <th>22705</th>\n",
       "      <td>19200891</td>\n",
       "      <td>2019-04-14 16:08:00</td>\n",
       "      <td>243</td>\n",
       "      <td>7000</td>\n",
       "      <td></td>\n",
       "      <td>MIRAMAR</td>\n",
       "      <td>ROAD</td>\n",
       "      <td></td>\n",
       "      <td></td>\n",
       "      <td></td>\n",
       "      <td>21453A</td>\n",
       "      <td>VC</td>\n",
       "      <td>SIGNAL LIGHTS:CIRCULAR RED (I)</td>\n",
       "      <td>1</td>\n",
       "      <td>0</td>\n",
       "      <td>NaN</td>\n",
       "    </tr>\n",
       "    <tr>\n",
       "      <th>22706</th>\n",
       "      <td>19200894</td>\n",
       "      <td>2019-04-14 18:03:00</td>\n",
       "      <td>116</td>\n",
       "      <td>1500</td>\n",
       "      <td></td>\n",
       "      <td>MORENA</td>\n",
       "      <td>BOULEVARD</td>\n",
       "      <td></td>\n",
       "      <td></td>\n",
       "      <td></td>\n",
       "      <td>23152(F)</td>\n",
       "      <td>VC</td>\n",
       "      <td>DUI ALCOHOL/DRUG (M)</td>\n",
       "      <td>1</td>\n",
       "      <td>0</td>\n",
       "      <td>NaN</td>\n",
       "    </tr>\n",
       "    <tr>\n",
       "      <th>22707</th>\n",
       "      <td>19200893</td>\n",
       "      <td>2019-04-14 19:41:00</td>\n",
       "      <td>521</td>\n",
       "      <td>800</td>\n",
       "      <td></td>\n",
       "      <td>10TH</td>\n",
       "      <td>AVENUE</td>\n",
       "      <td></td>\n",
       "      <td></td>\n",
       "      <td></td>\n",
       "      <td>22107</td>\n",
       "      <td>VC</td>\n",
       "      <td>TURNS:UNSAFE TURN AND/OR NO TURN SIGNAL (I)</td>\n",
       "      <td>1</td>\n",
       "      <td>0</td>\n",
       "      <td>NaN</td>\n",
       "    </tr>\n",
       "  </tbody>\n",
       "</table>\n",
       "</div>"
      ],
      "text/plain": [
       "      report_id            date_time  police_beat  street_no street_dir  \\\n",
       "22703  19200884  2019-04-14 10:51:00          235      15500              \n",
       "22704  19200885  2019-04-14 10:53:18          315       9100              \n",
       "22705  19200891  2019-04-14 16:08:00          243       7000              \n",
       "22706  19200894  2019-04-14 18:03:00          116       1500              \n",
       "22707  19200893  2019-04-14 19:41:00          521        800              \n",
       "\n",
       "              street_name street_type cross_st_dir cross_st_name  \\\n",
       "22703  SAN PASQUAL VALLEY        ROAD                              \n",
       "22704              FRIARS        ROAD                              \n",
       "22705             MIRAMAR        ROAD                              \n",
       "22706              MORENA   BOULEVARD                              \n",
       "22707                10TH      AVENUE                              \n",
       "\n",
       "      cross_st_type violation_section violation_type  \\\n",
       "22703                           22350             VC   \n",
       "22704                           22350             VC   \n",
       "22705                          21453A             VC   \n",
       "22706                        23152(F)             VC   \n",
       "22707                           22107             VC   \n",
       "\n",
       "                                       charge_desc  injured  killed  \\\n",
       "22703           UNSAFE SPEED (BASIC SPEED LAW) (I)        1       0   \n",
       "22704           UNSAFE SPEED (BASIC SPEED LAW) (I)        0       0   \n",
       "22705               SIGNAL LIGHTS:CIRCULAR RED (I)        1       0   \n",
       "22706                         DUI ALCOHOL/DRUG (M)        1       0   \n",
       "22707  TURNS:UNSAFE TURN AND/OR NO TURN SIGNAL (I)        1       0   \n",
       "\n",
       "       hit_run_lvl  \n",
       "22703          NaN  \n",
       "22704  MISDEMEANOR  \n",
       "22705          NaN  \n",
       "22706          NaN  \n",
       "22707          NaN  "
      ]
     },
     "execution_count": 46,
     "metadata": {},
     "output_type": "execute_result"
    }
   ],
   "source": [
    "print(collisions.info())\n",
    "collisions.tail()"
   ]
  },
  {
   "cell_type": "markdown",
   "metadata": {},
   "source": [
    "We notice many of the columns have missing data. The `hit_run_lvl` column is missing more than half of the values, but other columns like `street_dir`, `cross_st_dir`, `cross_st_name`, and `cross_st_type` are also missing values as many of the values are empty strings.\n",
    "\n",
    "We also see many of the data types are objects/strings, which can be difficult to work with or impute."
   ]
  },
  {
   "cell_type": "code",
   "execution_count": 47,
   "metadata": {
    "scrolled": false
   },
   "outputs": [
    {
     "data": {
      "image/png": "[encoded data removed]",
      "text/plain": [
       "<Figure size 864x432 with 1 Axes>"
      ]
     },
     "metadata": {
      "needs_background": "light"
     },
     "output_type": "display_data"
    }
   ],
   "source": [
    "num_injured_by_beat = collisions.groupby('police_beat')[['injured']].agg('sum')\n",
    "plt.figure(figsize=(12,6))\n",
    "plt.scatter(x=num_injured_by_beat.index, y=num_injured_by_beat['injured'])\n",
    "plt.title(\"Collision Injuries by Police Beat\")\n",
    "plt.ylabel('Number Injured')\n",
    "plt.xlabel('Police Beat Number')\n",
    "plt.show()"
   ]
  },
  {
   "cell_type": "code",
   "execution_count": 48,
   "metadata": {},
   "outputs": [
    {
     "data": {
      "image/png": "[encoded data removed]",
      "text/plain": [
       "<Figure size 864x432 with 1 Axes>"
      ]
     },
     "metadata": {
      "needs_background": "light"
     },
     "output_type": "display_data"
    }
   ],
   "source": [
    "num_killed_by_beat = collisions.groupby('police_beat')[['killed']].agg('sum')\n",
    "plt.figure(figsize=(12,6))\n",
    "plt.scatter(x=num_killed_by_beat.index, y=num_killed_by_beat['killed'])\n",
    "plt.title(\"Collision Deaths by Police Beat\")\n",
    "plt.ylabel('Number Killed')\n",
    "plt.xlabel('Police Beat Number')\n",
    "plt.show()"
   ]
  },
  {
   "cell_type": "markdown",
   "metadata": {},
   "source": [
    "We notice there is one beat with nearly 700 injuries, which is significantly higher than the other police beats.\n",
    "\n",
    "We notice there is one beat with 10 deaths, while the other beats are around 5 deaths or fewer.\n",
    "\n",
    "We also notice the beat numbers are somewhat clustered, with one beat 999, which could probably be for naming purposes to better distinguish beats."
   ]
  },
  {
   "cell_type": "markdown",
   "metadata": {},
   "source": [
    "### Traffic Counts EDA"
   ]
  },
  {
   "cell_type": "code",
   "execution_count": 49,
   "metadata": {},
   "outputs": [
    {
     "data": {
      "text/html": [
       "<div>\n",
       "<style scoped>\n",
       "    .dataframe tbody tr th:only-of-type {\n",
       "        vertical-align: middle;\n",
       "    }\n",
       "\n",
       "    .dataframe tbody tr th {\n",
       "        vertical-align: top;\n",
       "    }\n",
       "\n",
       "    .dataframe thead th {\n",
       "        text-align: right;\n",
       "    }\n",
       "</style>\n",
       "<table border=\"1\" class=\"dataframe\">\n",
       "  <thead>\n",
       "    <tr style=\"text-align: right;\">\n",
       "      <th></th>\n",
       "      <th>Field</th>\n",
       "      <th>Description</th>\n",
       "    </tr>\n",
       "  </thead>\n",
       "  <tbody>\n",
       "    <tr>\n",
       "      <th>0</th>\n",
       "      <td>street_name</td>\n",
       "      <td>The vehicles were counted on this street</td>\n",
       "    </tr>\n",
       "    <tr>\n",
       "      <th>1</th>\n",
       "      <td>limits</td>\n",
       "      <td>The vehicles were counted between these cross ...</td>\n",
       "    </tr>\n",
       "    <tr>\n",
       "      <th>2</th>\n",
       "      <td>northbound_count</td>\n",
       "      <td>The 24 hour count of northbound vehicles</td>\n",
       "    </tr>\n",
       "    <tr>\n",
       "      <th>3</th>\n",
       "      <td>southbound_count</td>\n",
       "      <td>The 24 hour count of southbound vehicles</td>\n",
       "    </tr>\n",
       "    <tr>\n",
       "      <th>4</th>\n",
       "      <td>eastbound_count</td>\n",
       "      <td>The 24 hour count of eastbound vehicles</td>\n",
       "    </tr>\n",
       "    <tr>\n",
       "      <th>5</th>\n",
       "      <td>westbound_count</td>\n",
       "      <td>The 24 hour count of westbound vehicles</td>\n",
       "    </tr>\n",
       "    <tr>\n",
       "      <th>6</th>\n",
       "      <td>total_count</td>\n",
       "      <td>The 24 hour total of all directions of vehicle...</td>\n",
       "    </tr>\n",
       "    <tr>\n",
       "      <th>7</th>\n",
       "      <td>count_date</td>\n",
       "      <td>The vehicles were counted on this date</td>\n",
       "    </tr>\n",
       "  </tbody>\n",
       "</table>\n",
       "</div>"
      ],
      "text/plain": [
       "              Field                                        Description\n",
       "0       street_name           The vehicles were counted on this street\n",
       "1            limits  The vehicles were counted between these cross ...\n",
       "2  northbound_count           The 24 hour count of northbound vehicles\n",
       "3  southbound_count           The 24 hour count of southbound vehicles\n",
       "4   eastbound_count            The 24 hour count of eastbound vehicles\n",
       "5   westbound_count            The 24 hour count of westbound vehicles\n",
       "6       total_count  The 24 hour total of all directions of vehicle...\n",
       "7        count_date             The vehicles were counted on this date"
      ]
     },
     "execution_count": 49,
     "metadata": {},
     "output_type": "execute_result"
    }
   ],
   "source": [
    "traffic_dict"
   ]
  },
  {
   "cell_type": "code",
   "execution_count": 50,
   "metadata": {
    "scrolled": false
   },
   "outputs": [
    {
     "name": "stdout",
     "output_type": "stream",
     "text": [
      "<class 'pandas.core.frame.DataFrame'>\n",
      "RangeIndex: 11659 entries, 0 to 11658\n",
      "Data columns (total 11 columns):\n",
      " #   Column            Non-Null Count  Dtype  \n",
      "---  ------            --------------  -----  \n",
      " 0   id                11659 non-null  object \n",
      " 1   street_name       11659 non-null  object \n",
      " 2   limits            11659 non-null  object \n",
      " 3   all_count         11637 non-null  object \n",
      " 4   northbound_count  5770 non-null   object \n",
      " 5   southbound_count  5796 non-null   float64\n",
      " 6   eastbound_count   5384 non-null   float64\n",
      " 7   westbound_count   5368 non-null   float64\n",
      " 8   total_count       11659 non-null  int64  \n",
      " 9   file_no           11659 non-null  object \n",
      " 10  count_date        11659 non-null  object \n",
      "dtypes: float64(3), int64(1), object(7)\n",
      "memory usage: 1002.1+ KB\n",
      "None\n"
     ]
    },
    {
     "data": {
      "text/html": [
       "<div>\n",
       "<style scoped>\n",
       "    .dataframe tbody tr th:only-of-type {\n",
       "        vertical-align: middle;\n",
       "    }\n",
       "\n",
       "    .dataframe tbody tr th {\n",
       "        vertical-align: top;\n",
       "    }\n",
       "\n",
       "    .dataframe thead th {\n",
       "        text-align: right;\n",
       "    }\n",
       "</style>\n",
       "<table border=\"1\" class=\"dataframe\">\n",
       "  <thead>\n",
       "    <tr style=\"text-align: right;\">\n",
       "      <th></th>\n",
       "      <th>id</th>\n",
       "      <th>street_name</th>\n",
       "      <th>limits</th>\n",
       "      <th>all_count</th>\n",
       "      <th>northbound_count</th>\n",
       "      <th>southbound_count</th>\n",
       "      <th>eastbound_count</th>\n",
       "      <th>westbound_count</th>\n",
       "      <th>total_count</th>\n",
       "      <th>file_no</th>\n",
       "      <th>count_date</th>\n",
       "    </tr>\n",
       "  </thead>\n",
       "  <tbody>\n",
       "    <tr>\n",
       "      <th>0</th>\n",
       "      <td>01AV018207</td>\n",
       "      <td>01 AV</td>\n",
       "      <td>A ST - ASH ST</td>\n",
       "      <td></td>\n",
       "      <td>18010</td>\n",
       "      <td>NaN</td>\n",
       "      <td>NaN</td>\n",
       "      <td>NaN</td>\n",
       "      <td>18010</td>\n",
       "      <td>0182-07</td>\n",
       "      <td>2007-03-13 00:00:00</td>\n",
       "    </tr>\n",
       "    <tr>\n",
       "      <th>1</th>\n",
       "      <td>01AV015210</td>\n",
       "      <td>01 AV</td>\n",
       "      <td>A ST - ASH ST</td>\n",
       "      <td></td>\n",
       "      <td>20060</td>\n",
       "      <td>NaN</td>\n",
       "      <td>NaN</td>\n",
       "      <td>NaN</td>\n",
       "      <td>20060</td>\n",
       "      <td>0152-10</td>\n",
       "      <td>2010-03-18 00:00:00</td>\n",
       "    </tr>\n",
       "    <tr>\n",
       "      <th>2</th>\n",
       "      <td>01AV018213</td>\n",
       "      <td>01 AV</td>\n",
       "      <td>A ST - ASH ST</td>\n",
       "      <td></td>\n",
       "      <td>19597</td>\n",
       "      <td>NaN</td>\n",
       "      <td>NaN</td>\n",
       "      <td>NaN</td>\n",
       "      <td>19597</td>\n",
       "      <td>0182-13</td>\n",
       "      <td>2013-03-12 00:00:00</td>\n",
       "    </tr>\n",
       "    <tr>\n",
       "      <th>3</th>\n",
       "      <td>01AV088812</td>\n",
       "      <td>01 AV</td>\n",
       "      <td>ASH ST - BEECH ST</td>\n",
       "      <td></td>\n",
       "      <td>2298</td>\n",
       "      <td>NaN</td>\n",
       "      <td>NaN</td>\n",
       "      <td>NaN</td>\n",
       "      <td>2298</td>\n",
       "      <td>0888-12</td>\n",
       "      <td>2012-12-11 00:00:00</td>\n",
       "    </tr>\n",
       "    <tr>\n",
       "      <th>4</th>\n",
       "      <td>01AV068711</td>\n",
       "      <td>01 AV</td>\n",
       "      <td>B ST - A ST</td>\n",
       "      <td></td>\n",
       "      <td>15625</td>\n",
       "      <td>NaN</td>\n",
       "      <td>NaN</td>\n",
       "      <td>NaN</td>\n",
       "      <td>15625</td>\n",
       "      <td>0687-11</td>\n",
       "      <td>2011-09-01 00:00:00</td>\n",
       "    </tr>\n",
       "  </tbody>\n",
       "</table>\n",
       "</div>"
      ],
      "text/plain": [
       "           id street_name             limits all_count northbound_count  \\\n",
       "0  01AV018207       01 AV      A ST - ASH ST                      18010   \n",
       "1  01AV015210       01 AV      A ST - ASH ST                      20060   \n",
       "2  01AV018213       01 AV      A ST - ASH ST                      19597   \n",
       "3  01AV088812       01 AV  ASH ST - BEECH ST                       2298   \n",
       "4  01AV068711       01 AV        B ST - A ST                      15625   \n",
       "\n",
       "   southbound_count  eastbound_count  westbound_count  total_count  file_no  \\\n",
       "0               NaN              NaN              NaN        18010  0182-07   \n",
       "1               NaN              NaN              NaN        20060  0152-10   \n",
       "2               NaN              NaN              NaN        19597  0182-13   \n",
       "3               NaN              NaN              NaN         2298  0888-12   \n",
       "4               NaN              NaN              NaN        15625  0687-11   \n",
       "\n",
       "            count_date  \n",
       "0  2007-03-13 00:00:00  \n",
       "1  2010-03-18 00:00:00  \n",
       "2  2013-03-12 00:00:00  \n",
       "3  2012-12-11 00:00:00  \n",
       "4  2011-09-01 00:00:00  "
      ]
     },
     "execution_count": 50,
     "metadata": {},
     "output_type": "execute_result"
    }
   ],
   "source": [
    "print(traffic_counts.info())\n",
    "traffic_counts.head()"
   ]
  },
  {
   "cell_type": "code",
   "execution_count": 51,
   "metadata": {},
   "outputs": [
    {
     "name": "stdout",
     "output_type": "stream",
     "text": [
      "count_date    2005-01-05 00:00:00\n",
      "dtype: object\n",
      "count_date    2019-03-28 00:00:00\n",
      "dtype: object\n"
     ]
    }
   ],
   "source": [
    "dates = traffic_counts[['count_date']]\n",
    "print(dates.min())\n",
    "print(dates.max())"
   ]
  },
  {
   "cell_type": "markdown",
   "metadata": {},
   "source": [
    "We see that many of the `_count` columns have missing values of directional traffic counts. We also notice that the dates span from 2005 to 2019 and not all streets may have the same number of measurements."
   ]
  },
  {
   "cell_type": "code",
   "execution_count": 52,
   "metadata": {
    "scrolled": false
   },
   "outputs": [
    {
     "data": {
      "image/png": "[encoded data removed]",
      "text/plain": [
       "<Figure size 864x432 with 1 Axes>"
      ]
     },
     "metadata": {
      "needs_background": "light"
     },
     "output_type": "display_data"
    }
   ],
   "source": [
    "total_traffic_by_street = traffic_counts.groupby('count_date')[['total_count']].agg('mean')\n",
    "plt.figure(figsize=(12,6))\n",
    "plt.bar(total_traffic_by_street.index, total_traffic_by_street['total_count'])\n",
    "plt.title(\"Average Daily Total Traffic per Street from 2005 to 2019\")\n",
    "plt.tick_params(\n",
    "    axis='x',          # changes apply to the x-axis\n",
    "    which='both',      # both major and minor ticks are affected\n",
    "    bottom=False,      # ticks along the bottom edge are off\n",
    "    top=False,         # ticks along the top edge are off\n",
    "    labelbottom=False) # labels along the bottom edge are off\n",
    "plt.ylabel('Average Daily Total Traffic')\n",
    "plt.xlabel('Street')\n",
    "plt.show()"
   ]
  },
  {
   "cell_type": "markdown",
   "metadata": {},
   "source": [
    "We can see there are some streets with over 50,000 average total vehicles a day, with one street with almost 80,000 average total vehicles per day. Because averages are affected by outliers, it may be interesting to see if these higher numbers are the result of a few days being significantly higher, which could be an error in measurement or calculation."
   ]
  },
  {
   "cell_type": "markdown",
   "metadata": {},
   "source": [
    "## Data Cleaning"
   ]
  },
  {
   "cell_type": "markdown",
   "metadata": {},
   "source": [
    "<h3> Cleaning Collisions </h3>"
   ]
  },
  {
   "cell_type": "code",
   "execution_count": 53,
   "metadata": {},
   "outputs": [],
   "source": [
    "# Drop unnecessary columns\n",
    "cl_collisions = collisions.drop('report_id', axis=1)"
   ]
  },
  {
   "cell_type": "code",
   "execution_count": 54,
   "metadata": {},
   "outputs": [],
   "source": [
    "# Clean hit/run level, fill NaN with Neither\n",
    "cl_collisions['hit_run_lvl'].fillna('NEITHER', inplace=True)"
   ]
  },
  {
   "cell_type": "code",
   "execution_count": 55,
   "metadata": {},
   "outputs": [],
   "source": [
    "# Clean date time, convert to datetime object\n",
    "cl_collisions['date_time'] = cl_collisions['date_time'].apply(pd.to_datetime)"
   ]
  },
  {
   "cell_type": "code",
   "execution_count": 56,
   "metadata": {},
   "outputs": [],
   "source": [
    "# Clean null street types\n",
    "# cl_collisions.loc[cl_collisions.street_type.isnull()]\n",
    "cl_collisions['street_type'] = cl_collisions.street_type.fillna(\"\")"
   ]
  },
  {
   "cell_type": "code",
   "execution_count": 57,
   "metadata": {
    "scrolled": false
   },
   "outputs": [
    {
     "data": {
      "text/plain": [
       "934    313\n",
       "935     78\n",
       "936     50\n",
       "937     79\n",
       "999     45\n",
       "Name: police_beat, dtype: int64"
      ]
     },
     "execution_count": 57,
     "metadata": {},
     "output_type": "execute_result"
    }
   ],
   "source": [
    "cl_collisions.police_beat.value_counts().sort_index().tail()"
   ]
  },
  {
   "cell_type": "markdown",
   "metadata": {},
   "source": [
    "Looking at the police beats, we see that the beat number jumps from 937 to 999. Why does it jump?\n",
    "Also, there are only 45 collisions with the beat number of 999.\n",
    "\n",
    "A quick Google search shows us that Beat 999 is a label for \"Out of County\" collisions, so we decide to drop those entries as 45 collisions of 22,708 collisions is a small amount of data to drop."
   ]
  },
  {
   "cell_type": "code",
   "execution_count": 58,
   "metadata": {},
   "outputs": [],
   "source": [
    "cl_collisions = cl_collisions[cl_collisions['police_beat'] != 999]"
   ]
  },
  {
   "cell_type": "markdown",
   "metadata": {},
   "source": [
    "<h3>Cleaning Traffic Counts</h3>"
   ]
  },
  {
   "cell_type": "code",
   "execution_count": 59,
   "metadata": {
    "scrolled": true
   },
   "outputs": [],
   "source": [
    "# Drop unnecessary columns\n",
    "cl_traffic = traffic_counts.drop(['id', 'count_date', 'file_no'], axis=1)"
   ]
  },
  {
   "cell_type": "code",
   "execution_count": 60,
   "metadata": {},
   "outputs": [
    {
     "data": {
      "text/plain": [
       "street_name          object\n",
       "limits               object\n",
       "all_count            object\n",
       "northbound_count     object\n",
       "southbound_count    float64\n",
       "eastbound_count     float64\n",
       "westbound_count     float64\n",
       "total_count           int64\n",
       "dtype: object"
      ]
     },
     "execution_count": 60,
     "metadata": {},
     "output_type": "execute_result"
    }
   ],
   "source": [
    "cl_traffic.dtypes"
   ]
  },
  {
   "cell_type": "markdown",
   "metadata": {},
   "source": [
    "We see the count columns are all different types, so we can fill missing values, coerce non-numeric values, to cast the count columns to the same dtype."
   ]
  },
  {
   "cell_type": "code",
   "execution_count": 61,
   "metadata": {},
   "outputs": [],
   "source": [
    "# Helper function to clean count columns\n",
    "def clean_counts(df):\n",
    "    for col in df:\n",
    "        if col.endswith('_count'):\n",
    "            # Convert to numeric values, coerce and fill with 0 if error\n",
    "            df[col] = pd.to_numeric(df[col], errors='coerce').fillna(0).astype(int)\n",
    "    return df"
   ]
  },
  {
   "cell_type": "code",
   "execution_count": 62,
   "metadata": {},
   "outputs": [
    {
     "data": {
      "text/plain": [
       "street_name         object\n",
       "limits              object\n",
       "all_count            int32\n",
       "northbound_count     int32\n",
       "southbound_count     int32\n",
       "eastbound_count      int32\n",
       "westbound_count      int32\n",
       "total_count          int32\n",
       "dtype: object"
      ]
     },
     "execution_count": 62,
     "metadata": {},
     "output_type": "execute_result"
    }
   ],
   "source": [
    "# Clean the traffic count columns, convert types\n",
    "cl_traffic = clean_counts(cl_traffic)\n",
    "cl_traffic.dtypes"
   ]
  },
  {
   "cell_type": "markdown",
   "metadata": {},
   "source": [
    "## Analysis"
   ]
  },
  {
   "cell_type": "markdown",
   "metadata": {},
   "source": [
    "### Which beats have more injuries or collisions?"
   ]
  },
  {
   "cell_type": "code",
   "execution_count": 63,
   "metadata": {},
   "outputs": [
    {
     "data": {
      "text/plain": [
       "<Figure size 864x432 with 0 Axes>"
      ]
     },
     "metadata": {},
     "output_type": "display_data"
    },
    {
     "data": {
      "image/png": "[encoded data removed]",
      "text/plain": [
       "<Figure size 1152x576 with 1 Axes>"
      ]
     },
     "metadata": {
      "needs_background": "light"
     },
     "output_type": "display_data"
    }
   ],
   "source": [
    "inj_beats = cl_collisions.groupby('police_beat')[['injured']].agg('sum')\n",
    "mean_inj = inj_beats['injured'].mean()\n",
    "inj_beats_higher = inj_beats[inj_beats['injured'] > mean_inj]\n",
    "plt.figure(figsize=(12,6))\n",
    "inj_beats_higher.plot.barh(figsize=(16, 8))\n",
    "\n",
    "plt.title(f'Beats with Higher than Average ({int(mean_inj + 0.5)}) Injuries') # round up\n",
    "plt.ylabel('Police Beat')\n",
    "plt.xlabel('Number of Injuries')\n",
    "plt.show()"
   ]
  },
  {
   "cell_type": "markdown",
   "metadata": {},
   "source": [
    "We can see that Beat 122 has significantly more collision injuries than the other police beats."
   ]
  },
  {
   "cell_type": "code",
   "execution_count": 64,
   "metadata": {
    "scrolled": false
   },
   "outputs": [
    {
     "data": {
      "text/plain": [
       "<Figure size 864x432 with 0 Axes>"
      ]
     },
     "metadata": {},
     "output_type": "display_data"
    },
    {
     "data": {
      "image/png": "[encoded data removed]",
      "text/plain": [
       "<Figure size 1152x576 with 1 Axes>"
      ]
     },
     "metadata": {
      "needs_background": "light"
     },
     "output_type": "display_data"
    }
   ],
   "source": [
    "kill_beats = cl_collisions.groupby('police_beat')[['killed']].agg('sum')\n",
    "mean_kill = kill_beats['killed'].mean()\n",
    "kill_beats_higher = kill_beats[kill_beats['killed'] > mean_kill]\n",
    "plt.figure(figsize=(12,6))\n",
    "kill_beats_higher.plot.barh(figsize=(16, 8))\n",
    "\n",
    "plt.title(f'Beats with Higher than Average ({int(mean_kill + 0.5)}) Deaths') # round up\n",
    "plt.ylabel('Police Beat')\n",
    "plt.xlabel('Number of Deaths')\n",
    "plt.show()"
   ]
  },
  {
   "cell_type": "markdown",
   "metadata": {},
   "source": [
    "We can see that Beat 242 has over two times the deaths as deaths of other police beats."
   ]
  },
  {
   "cell_type": "markdown",
   "metadata": {},
   "source": [
    "### Which street type is the most dangerous?\n",
    "\n",
    "We can define dangerous as the sum of the number of injuries and the number of deaths."
   ]
  },
  {
   "cell_type": "code",
   "execution_count": 65,
   "metadata": {},
   "outputs": [
    {
     "data": {
      "text/plain": [
       "array([' ', 'DRIVE', 'STREET', 'TRAIL', 'AVENUE', 'PLACE', 'COURT',\n",
       "       'ROAD', 'BOULEVARD', 'PARKWAY', 'WAY', 'COVE', 'CIRCLE', 'LANE',\n",
       "       'HIGHWAY', 'TERRACE', 'PLAZA', 'MALL', 'ROW', 'POINT', 'WALK',\n",
       "       'PASEO', 'SQUARE', 'RAMP', 'DRIVEWAY', 'KNOLLS', '', 'LIGHTS'],\n",
       "      dtype=object)"
      ]
     },
     "execution_count": 65,
     "metadata": {},
     "output_type": "execute_result"
    }
   ],
   "source": [
    "cl_collisions['street_type'].unique()"
   ]
  },
  {
   "cell_type": "markdown",
   "metadata": {},
   "source": [
    "We want to ignore the missing street types before counting injuries and deaths."
   ]
  },
  {
   "cell_type": "code",
   "execution_count": 66,
   "metadata": {},
   "outputs": [
    {
     "data": {
      "text/html": [
       "<div>\n",
       "<style scoped>\n",
       "    .dataframe tbody tr th:only-of-type {\n",
       "        vertical-align: middle;\n",
       "    }\n",
       "\n",
       "    .dataframe tbody tr th {\n",
       "        vertical-align: top;\n",
       "    }\n",
       "\n",
       "    .dataframe thead th {\n",
       "        text-align: right;\n",
       "    }\n",
       "</style>\n",
       "<table border=\"1\" class=\"dataframe\">\n",
       "  <thead>\n",
       "    <tr style=\"text-align: right;\">\n",
       "      <th></th>\n",
       "      <th>injured</th>\n",
       "      <th>killed</th>\n",
       "      <th>total</th>\n",
       "    </tr>\n",
       "    <tr>\n",
       "      <th>street_type</th>\n",
       "      <th></th>\n",
       "      <th></th>\n",
       "      <th></th>\n",
       "    </tr>\n",
       "  </thead>\n",
       "  <tbody>\n",
       "    <tr>\n",
       "      <th>AVENUE</th>\n",
       "      <td>3322</td>\n",
       "      <td>24</td>\n",
       "      <td>3346</td>\n",
       "    </tr>\n",
       "    <tr>\n",
       "      <th>STREET</th>\n",
       "      <td>3037</td>\n",
       "      <td>25</td>\n",
       "      <td>3062</td>\n",
       "    </tr>\n",
       "    <tr>\n",
       "      <th>ROAD</th>\n",
       "      <td>2320</td>\n",
       "      <td>19</td>\n",
       "      <td>2339</td>\n",
       "    </tr>\n",
       "    <tr>\n",
       "      <th>BOULEVARD</th>\n",
       "      <td>2019</td>\n",
       "      <td>20</td>\n",
       "      <td>2039</td>\n",
       "    </tr>\n",
       "    <tr>\n",
       "      <th>DRIVE</th>\n",
       "      <td>1453</td>\n",
       "      <td>10</td>\n",
       "      <td>1463</td>\n",
       "    </tr>\n",
       "    <tr>\n",
       "      <th>PARKWAY</th>\n",
       "      <td>189</td>\n",
       "      <td>2</td>\n",
       "      <td>191</td>\n",
       "    </tr>\n",
       "    <tr>\n",
       "      <th>WAY</th>\n",
       "      <td>126</td>\n",
       "      <td>2</td>\n",
       "      <td>128</td>\n",
       "    </tr>\n",
       "    <tr>\n",
       "      <th>HIGHWAY</th>\n",
       "      <td>78</td>\n",
       "      <td>0</td>\n",
       "      <td>78</td>\n",
       "    </tr>\n",
       "    <tr>\n",
       "      <th>PLACE</th>\n",
       "      <td>51</td>\n",
       "      <td>0</td>\n",
       "      <td>51</td>\n",
       "    </tr>\n",
       "    <tr>\n",
       "      <th>WALK</th>\n",
       "      <td>42</td>\n",
       "      <td>0</td>\n",
       "      <td>42</td>\n",
       "    </tr>\n",
       "  </tbody>\n",
       "</table>\n",
       "</div>"
      ],
      "text/plain": [
       "             injured  killed  total\n",
       "street_type                        \n",
       "AVENUE          3322      24   3346\n",
       "STREET          3037      25   3062\n",
       "ROAD            2320      19   2339\n",
       "BOULEVARD       2019      20   2039\n",
       "DRIVE           1453      10   1463\n",
       "PARKWAY          189       2    191\n",
       "WAY              126       2    128\n",
       "HIGHWAY           78       0     78\n",
       "PLACE             51       0     51\n",
       "WALK              42       0     42"
      ]
     },
     "execution_count": 66,
     "metadata": {},
     "output_type": "execute_result"
    }
   ],
   "source": [
    "danger_st = cl_collisions[~cl_collisions['street_type'].isin(('', ' '))].groupby('street_type').sum()[['injured', 'killed']]\n",
    "danger_st['total'] = danger_st['injured'] + danger_st['killed']\n",
    "danger_st.sort_values('total', ascending=False).head(10)"
   ]
  },
  {
   "cell_type": "code",
   "execution_count": 67,
   "metadata": {},
   "outputs": [
    {
     "name": "stdout",
     "output_type": "stream",
     "text": [
      "Least Dangerous: ['COVE', 'KNOLLS', 'PASEO', 'TRAIL']\n",
      "Most Injuries: ['AVENUE']\n",
      "Most Deaths: ['STREET']\n",
      "Most Dangerous: ['AVENUE']\n"
     ]
    }
   ],
   "source": [
    "# least dangerous (deaths + injuries)\n",
    "print('Least Dangerous:', danger_st[danger_st['total'] == danger_st['total'].min()].index.to_list())\n",
    "\n",
    "# most injuries\n",
    "print('Most Injuries:', danger_st[danger_st['injured'] == danger_st['injured'].max()].index.to_list())\n",
    "\n",
    "# most deaths\n",
    "print('Most Deaths:', danger_st[danger_st['killed'] == danger_st['killed'].max()].index.to_list())\n",
    "\n",
    "# most dangerous (deaths + injuries)\n",
    "print('Most Dangerous:', danger_st[danger_st['total'] == danger_st['total'].max()].index.to_list())"
   ]
  },
  {
   "cell_type": "markdown",
   "metadata": {},
   "source": [
    "The most dangerous street types are \"Street\" and \"Avenue\", which makes sense as there are more cars and more lanes on these roadways."
   ]
  },
  {
   "cell_type": "markdown",
   "metadata": {},
   "source": [
    "### What hour of day results in the most collisions?"
   ]
  },
  {
   "cell_type": "code",
   "execution_count": 68,
   "metadata": {},
   "outputs": [],
   "source": [
    "cl_collisions['hour_of_day'] = cl_collisions['date_time'].apply(lambda x: x.hour)"
   ]
  },
  {
   "cell_type": "code",
   "execution_count": 69,
   "metadata": {
    "scrolled": false
   },
   "outputs": [
    {
     "data": {
      "image/png": "[encoded data removed]",
      "text/plain": [
       "<Figure size 864x432 with 1 Axes>"
      ]
     },
     "metadata": {
      "needs_background": "light"
     },
     "output_type": "display_data"
    }
   ],
   "source": [
    "cl_collisions.hour_of_day.plot.hist(title=\"Hourly Collisions Histogram\", bins=24, figsize=(12,6))\n",
    "plt.xlabel('Hour of Day')\n",
    "plt.ylabel('Number of Collisions')\n",
    "plt.show()"
   ]
  },
  {
   "cell_type": "markdown",
   "metadata": {},
   "source": [
    "We can see that collisions generally happen in the afternoon around 3pm or 4pm. There is also a large number of collisions that happens between midnight and 1am."
   ]
  },
  {
   "cell_type": "markdown",
   "metadata": {},
   "source": [
    "### Why are there more collisions between midnight and 1AM?"
   ]
  },
  {
   "cell_type": "code",
   "execution_count": 70,
   "metadata": {},
   "outputs": [
    {
     "data": {
      "text/plain": [
       "1620"
      ]
     },
     "execution_count": 70,
     "metadata": {},
     "output_type": "execute_result"
    }
   ],
   "source": [
    "midnight_hour = cl_collisions[cl_collisions['hour_of_day'] < 1]\n",
    "midnight_hour.shape[0]"
   ]
  },
  {
   "cell_type": "code",
   "execution_count": 71,
   "metadata": {},
   "outputs": [
    {
     "data": {
      "text/plain": [
       "MISCELLANEOUS HAZARDOUS VIOLATIONS OF THE VEHICLE CODE      760\n",
       "TURNING MOVEMENTS AND REQUIRED SIGNALS                      513\n",
       "VIOLATION OF BASIC SPEED LAW SPEED UNSAFE FOR CONDITIONS     90\n",
       "STARTING PARKED VEHICLES OR BACKING                          82\n",
       "RED OR STOPVEHICLES STOP AT LIMIT LINE                       37\n",
       "Name: charge_desc, dtype: int64"
      ]
     },
     "execution_count": 71,
     "metadata": {},
     "output_type": "execute_result"
    }
   ],
   "source": [
    "midnight_hour.charge_desc.value_counts().head()"
   ]
  },
  {
   "cell_type": "code",
   "execution_count": 72,
   "metadata": {},
   "outputs": [
    {
     "data": {
      "text/plain": [
       "MISDEMEANOR    1275\n",
       "NEITHER         335\n",
       "FELONY           10\n",
       "Name: hit_run_lvl, dtype: int64"
      ]
     },
     "execution_count": 72,
     "metadata": {},
     "output_type": "execute_result"
    }
   ],
   "source": [
    "midnight_hour.hit_run_lvl.value_counts()"
   ]
  },
  {
   "cell_type": "markdown",
   "metadata": {},
   "source": [
    "Of the 1,620 collisions that happened between midnight and 1am, most of them were due to misdemeanor offenses of either \"Miscellaneous Hazardous Violations of the Vehicle Code\" or \"Turning Movements and Required Signals\". The increase in collisions could be due to more late night activity, decreased visibility at nighttime, drivers being more fatigued, or other factors that may increase collisions."
   ]
  },
  {
   "cell_type": "markdown",
   "metadata": {},
   "source": [
    "### What day of the week results in most collisions?"
   ]
  },
  {
   "cell_type": "code",
   "execution_count": 73,
   "metadata": {},
   "outputs": [
    {
     "data": {
      "text/plain": [
       "Friday       3551\n",
       "Saturday     3377\n",
       "Thursday     3284\n",
       "Wednesday    3220\n",
       "Tuesday      3101\n",
       "Sunday       3099\n",
       "Monday       3031\n",
       "Name: day_of_week, dtype: int64"
      ]
     },
     "execution_count": 73,
     "metadata": {},
     "output_type": "execute_result"
    }
   ],
   "source": [
    "cl_collisions['day_of_week'] = cl_collisions['date_time'].dt.day_name()\n",
    "cl_collisions['day_of_week'].value_counts()"
   ]
  },
  {
   "cell_type": "code",
   "execution_count": 74,
   "metadata": {
    "scrolled": false
   },
   "outputs": [
    {
     "data": {
      "image/png": "[encoded data removed]",
      "text/plain": [
       "<Figure size 864x432 with 1 Axes>"
      ]
     },
     "metadata": {
      "needs_background": "light"
     },
     "output_type": "display_data"
    }
   ],
   "source": [
    "cl_collisions.day_of_week.value_counts().plot(kind='bar', title='Collisions vs. Day of Week', figsize=(12, 6))\n",
    "plt.ylabel('Number of Collisions')\n",
    "plt.show()"
   ]
  },
  {
   "cell_type": "markdown",
   "metadata": {},
   "source": [
    "We can see that collisions generally happen similarly often across all days of the week, with the most collisions happening on Friday."
   ]
  },
  {
   "cell_type": "markdown",
   "metadata": {},
   "source": [
    "## Pacific Beach (Beat 122) Case Study"
   ]
  },
  {
   "cell_type": "code",
   "execution_count": 75,
   "metadata": {},
   "outputs": [
    {
     "data": {
      "image/png": "[encoded data removed]",
      "text/plain": [
       "<Figure size 864x432 with 1 Axes>"
      ]
     },
     "metadata": {
      "needs_background": "light"
     },
     "output_type": "display_data"
    }
   ],
   "source": [
    "beat_collisions = cl_collisions.groupby('police_beat')[['police_beat']].agg(num_collisions=('police_beat', 'count'))\n",
    "plt.figure(figsize=(12, 6))\n",
    "plt.scatter(x=beat_collisions.index, y=beat_collisions['num_collisions'])\n",
    "plt.title('Collisions Per Police Beat')\n",
    "plt.xlabel('Police Beat')\n",
    "plt.ylabel('Collisions')\n",
    "plt.show()\n",
    "# plt.savefig('colls_per_beat.png')"
   ]
  },
  {
   "cell_type": "code",
   "execution_count": 76,
   "metadata": {
    "scrolled": false
   },
   "outputs": [
    {
     "data": {
      "image/png": "[encoded data removed]",
      "text/plain": [
       "<Figure size 864x432 with 1 Axes>"
      ]
     },
     "metadata": {
      "needs_background": "light"
     },
     "output_type": "display_data"
    }
   ],
   "source": [
    "top_10_beats = beat_collisions.loc[beat_collisions['num_collisions'] > 450].sort_values('num_collisions', ascending=False)\n",
    "top_10_beats.plot(kind='bar', title=\"Top 10 Beats with Most Collisions\", figsize=(12, 6))\n",
    "plt.xlabel(\"Police Beat Number\")\n",
    "plt.ylabel(\"Collisions\")\n",
    "plt.show()\n",
    "# plt.savefig(\"top10beats.png\")"
   ]
  },
  {
   "cell_type": "markdown",
   "metadata": {},
   "source": [
    "We can see that Beat 122, or Pacific Beach, has significantly more collisions than other police beats. So let's explore why so many collisions happen in Pacific Beach."
   ]
  },
  {
   "cell_type": "code",
   "execution_count": 77,
   "metadata": {},
   "outputs": [],
   "source": [
    "pb_collisions = cl_collisions[cl_collisions['police_beat'] == 122].copy()"
   ]
  },
  {
   "cell_type": "code",
   "execution_count": 78,
   "metadata": {},
   "outputs": [
    {
     "data": {
      "image/png": "[encoded data removed]",
      "text/plain": [
       "<Figure size 864x432 with 1 Axes>"
      ]
     },
     "metadata": {
      "needs_background": "light"
     },
     "output_type": "display_data"
    }
   ],
   "source": [
    "# Collisions in PB per hour of day\n",
    "pb_collisions.hour_of_day.plot(kind='hist', title=\"PB Collisions vs. Hour of Day\", bins=24, figsize=(12, 6))\n",
    "plt.xlabel('Hour of Day')\n",
    "plt.ylabel('Number of Collisions')\n",
    "plt.show()\n",
    "# plt.savefig('pbcollisions_per_hour.png')"
   ]
  },
  {
   "cell_type": "markdown",
   "metadata": {},
   "source": [
    "Most of the collisions in Pacific Beach happen around midnight."
   ]
  },
  {
   "cell_type": "code",
   "execution_count": 79,
   "metadata": {
    "scrolled": false
   },
   "outputs": [
    {
     "data": {
      "image/png": "[encoded data removed]",
      "text/plain": [
       "<Figure size 864x432 with 1 Axes>"
      ]
     },
     "metadata": {
      "needs_background": "light"
     },
     "output_type": "display_data"
    }
   ],
   "source": [
    "pb_collisions.day_of_week.value_counts().plot(kind='bar', title='PB Collisions vs. Day of Week', figsize=(12, 6))\n",
    "plt.ylabel('Number of Collisions in PB')\n",
    "plt.show()"
   ]
  },
  {
   "cell_type": "markdown",
   "metadata": {},
   "source": [
    "Most of the collisions in Pacific Beach happen on the weekend."
   ]
  },
  {
   "cell_type": "markdown",
   "metadata": {},
   "source": [
    "## Hypothesis Testing\n",
    "\n",
    "**Question:** Due to having the highest number of collisions, does Pacific Beach (Beat 122) have a significantly higher average of combined injuries and deaths than other beats, which do not have as many collisions?\n",
    "\n",
    "\n",
    "**Null Hypothesis:**: Collisions in Pacific Beach (Beat 122) will not have a significantly higher average of combined injuries and deaths than the average combined injuries and deaths of collisions in the other beats of San Diego.\n",
    "\n",
    "\n",
    "**Alternative Hypothesis:** Collisions in Pacific Beach (Beat 122) have higher averages of combined injuries and deaths than collisions in other beats of San Diego.\n",
    "\n",
    "**Test Statistic:** Average Total Hurt, defined as the average of the sum of the number of injured and killed for each collision in the beat."
   ]
  },
  {
   "cell_type": "code",
   "execution_count": 80,
   "metadata": {},
   "outputs": [],
   "source": [
    "cl_collisions['total_hurt'] = cl_collisions['injured'] + cl_collisions['killed']\n",
    "pb_collisions['total_hurt'] = pb_collisions['injured'] + pb_collisions['killed']"
   ]
  },
  {
   "cell_type": "code",
   "execution_count": 81,
   "metadata": {},
   "outputs": [
    {
     "data": {
      "text/plain": [
       "0.5844155844155844"
      ]
     },
     "execution_count": 81,
     "metadata": {},
     "output_type": "execute_result"
    }
   ],
   "source": [
    "# Mean total hurt in PB, beat 122\n",
    "observed_avg_hurt = pb_collisions[['total_hurt']].mean()[0]\n",
    "observed_avg_hurt"
   ]
  },
  {
   "cell_type": "markdown",
   "metadata": {},
   "source": [
    "We first calculate the observed test statistic (average total hurt) for Pacific Beach."
   ]
  },
  {
   "cell_type": "code",
   "execution_count": 82,
   "metadata": {},
   "outputs": [],
   "source": [
    "averages = []\n",
    "num_samples = 50000\n",
    "for i in np.arange(num_samples):\n",
    "    random_sample = cl_collisions[['total_hurt']].sample((pb_collisions.shape[0]), replace=False)\n",
    "    new_average = np.mean(random_sample['total_hurt'])\n",
    "    averages.append(new_average)\n",
    "    \n",
    "averages = np.array(averages)  "
   ]
  },
  {
   "cell_type": "markdown",
   "metadata": {},
   "source": [
    "Then, we use bootstrapping to calculate the test statistic for 50,000 random samples that consist of the same number of collisions."
   ]
  },
  {
   "cell_type": "code",
   "execution_count": 83,
   "metadata": {},
   "outputs": [
    {
     "data": {
      "image/png": "[encoded data removed]",
      "text/plain": [
       "<Figure size 864x432 with 1 Axes>"
      ]
     },
     "metadata": {
      "needs_background": "light"
     },
     "output_type": "display_data"
    }
   ],
   "source": [
    "plt.figure(figsize=(12, 6))\n",
    "pd.Series(averages, name='Average').plot(\n",
    "    kind='hist', \n",
    "#     bins=cl_collisions['police_beat'].nunique(),\n",
    "    bins=150,\n",
    "    label='Random Sample'\n",
    ")\n",
    "# plt.scatter(observed_avg_hurt, 0, color='red', s=40)\n",
    "plt.plot(observed_avg_hurt, 0, 'ro', markersize=10, label='Observed (Beat 122)')\n",
    "plt.title('Average Hurt from 50,000 Random Collision Samples')\n",
    "plt.xlabel(\"Average Hurt\")\n",
    "plt.ylabel(\"Frequency\")\n",
    "plt.legend()\n",
    "plt.show()\n",
    "# plt.savefig(\"avghurtsampled.png\")"
   ]
  },
  {
   "cell_type": "markdown",
   "metadata": {},
   "source": [
    "Graphing the samples, we can see that the average number of hurt people from collisions in Pacific Beach is actually pretty common, despite the fact Pacific Beach has more collisions."
   ]
  },
  {
   "cell_type": "code",
   "execution_count": 84,
   "metadata": {},
   "outputs": [
    {
     "data": {
      "text/plain": [
       "0.64768"
      ]
     },
     "execution_count": 84,
     "metadata": {},
     "output_type": "execute_result"
    }
   ],
   "source": [
    "p_value = np.count_nonzero(averages >= observed_avg_hurt) / num_samples\n",
    "p_value"
   ]
  },
  {
   "cell_type": "markdown",
   "metadata": {},
   "source": [
    "Because the P-value of the hypothesis test is greater than 0.05, we accept the null hypothesis that collisions in Pacific Beach (Beat 122) do not have a significantly higher average of combined injuries and deaths than the average combined injuries and deaths of collisions in the other beats of San Diego.\n",
    "\n",
    "From this result, it would be reasonable to think that a high amount of collisions does not necessarily mean that more people will be injured or killed on average."
   ]
  },
  {
   "cell_type": "markdown",
   "metadata": {},
   "source": [
    "## Conclusion and Insights"
   ]
  },
  {
   "cell_type": "markdown",
   "metadata": {},
   "source": [
    "Based on our hypothesis test, we can conclude that just because an area has the most collisions, it doesn’t necessarily mean that area is specifically dangerous, in terms of collision-related deaths and injuries. But our analysis and hypothesis test still leaves some questions unanswered, and even leads to other questions. What is the cause of the large number of collisions in Pacific Beach that are mostly injury and death free?\n",
    "\n",
    "Seeing that most of the collisions happen on the weekend and around midnight, we can see that the collisions in Pacific Beach could be due to the large amount of activity as Pacific Beach is a popular weekend destination for nightlife and recreation.\n",
    "\n",
    "There were also many issues with the data that would ideally get resolved if we had the opportunity to analyze this data in the future. There were multiple areas in the different data sets, such as missing data, rounded off data (times and dates being rounded), and a variety of other messy data inputs. While we considered these different things and in general these were relatively negligible (due to our large dataset), it would be interesting to determine why these certain areas or data points were missing. We also felt that the traffic data didn’t provide enough data regarding each of the roads, as it would only have data on a few roads for each day (most likely due to a specific definition of traffic or a specific threshold of number of cars). If data could be collected on the total number of cars on each road per day, this could significantly help the traffic collision analysis.\n",
    "\n",
    "From our observation of the large number of collisions in Pacific Beach without injuries or deaths, we can suggest the city set up some methods for increased driving awareness to address the main causes like turning signal or other miscellaneous vehicle violations.\n",
    "\n",
    "Given our identification of the most impacted traffic regions in San Diego through looking at traffic collision data over the past 4 years, we can suggest drivers and businesses optimize their routes to avoid these areas and roads with around 50% more collisions for safer and more efficient commutes.\n",
    "\n",
    "Overall, while we’ve taken a large step in analyzing this data, there’s still much to explore. Traffic will always be a large part of transportation, but with the strength of Data Science, large strides can be made to make traffic a thing of the past."
   ]
  }
 ],
 "metadata": {
  "kernelspec": {
   "display_name": "Python 3 (ipykernel)",
   "language": "python",
   "name": "python3"
  },
  "language_info": {
   "codemirror_mode": {
    "name": "ipython",
    "version": 3
   },
   "file_extension": ".py",
   "mimetype": "text/x-python",
   "name": "python",
   "nbconvert_exporter": "python",
   "pygments_lexer": "ipython3",
   "version": "3.9.7"
  }
 },
 "nbformat": 4,
 "nbformat_minor": 2
}
